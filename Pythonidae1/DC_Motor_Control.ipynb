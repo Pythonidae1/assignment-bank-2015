{
 "cells": [
  {
   "cell_type": "markdown",
   "metadata": {
    "collapsed": true
   },
   "source": [
    "###### Content under Creative Commons Attribution license CC-BY 4.0, code under MIT license (c)2015 J.M. Kerwin. Style from Numerical-MOOC (c)2014 L.A. Barba, G.F. Forsyth also under CC-BY."
   ]
  },
  {
   "cell_type": "code",
   "execution_count": 28,
   "metadata": {
    "collapsed": true
   },
   "outputs": [],
   "source": [
    "%matplotlib inline\n",
    "import numpy \n",
    "from sympy import *\n",
    "from matplotlib import pyplot\n",
    "import matplotlib.pyplot as plt\n",
    "from matplotlib import rcParams\n",
    "import webbrowser\n",
    "rcParams['font.family'] = 'serif'\n",
    "rcParams['font.size'] = 16"
   ]
  },
  {
   "cell_type": "markdown",
   "metadata": {},
   "source": [
    "# DC Motor Control"
   ]
  },
  {
   "cell_type": "markdown",
   "metadata": {},
   "source": [
    "Welcome to the *proposed* bonus notebook for the first learning module of the course [**\"Practical Numerical Methods with Python.\"**](http://openedx.seas.gwu.edu/courses/GW/MAE6286/2014_fall/about)\n",
    "\n",
    "In this notebook I discuss an application of ordinary differential equation (ODE) methods to DC motor control for a gimbal system. The focus is the motion profile and motor winding temperature with a demand current input. Here is a general overview of [DC Motor Theory](http://hades.mech.northwestern.edu/index.php/Brushed_DC_Motor_Theory) relating specifically to the Maxon motors presented in this excersize.\n",
    "\n",
    "What is a gimbal? It is a device for controlling rotation around an axis. The most common example is in a pan-tilt security camera, which is a two-stage gimbal. For a general description of a gimbal, reference [\"Gimbal-Wikipedia.\"](https://en.wikipedia.org/wiki/Gimbal) A linear and rotary positioning machine manufacturer, [Newmark Systems](http://www.newmarksystems.com/gimbal-mounts/), shows a great example of a moving two-stage gimbal in the video below. The azimuth stage is represented by rotation about the vertical axis, and the elevation stage is represented by rotation about a horizontal axis. Note the cube DC stepper motors mounted to each of the stages and the external cables connected bewteen the first and second stage indicating that the azimuth stage has a limitied rotation to about 360 degrees.\n"
   ]
  },
  {
   "cell_type": "code",
   "execution_count": 29,
   "metadata": {
    "collapsed": false
   },
   "outputs": [
    {
     "data": {
      "text/html": [
       "\n",
       "        <iframe\n",
       "            width=\"400\"\n",
       "            height=\"300\"\n",
       "            src=\"https://www.youtube.com/embed/wOK12HZSbu4\"\n",
       "            frameborder=\"0\"\n",
       "            allowfullscreen\n",
       "        ></iframe>\n",
       "        "
      ],
      "text/plain": [
       "<IPython.lib.display.YouTubeVideo at 0x7f1a69892ba8>"
      ]
     },
     "execution_count": 29,
     "metadata": {},
     "output_type": "execute_result"
    }
   ],
   "source": [
    "from IPython.display import YouTubeVideo\n",
    "YouTubeVideo('wOK12HZSbu4')"
   ]
  },
  {
   "cell_type": "markdown",
   "metadata": {
    "collapsed": true
   },
   "source": [
    "The gimbal and payload specifications for this excersize are as follows:\n",
    "\n",
    "**Payload Specification**\n",
    "* Dimensions: $48x11x7 in.$\n",
    "* Mass moment of inertia for the Azimuth Stage: $26.831 kgm^2$\n",
    "\n",
    "**[Maxon Motor](http://www.maxonmotorusa.com) hardware**\n",
    "* Maxon EPOS2 70/10 controller part number 375711\n",
    "* Maxon Planetary gearhead GP62A with 100:1 gear ratio part number 110505\n",
    "* Maxon EC45 DC brushless motor part number 136210\n",
    "* $V_\\rm{applied}=28Volts$\n",
    "* $I_\\rm{max}=25Amps$\n",
    "* $P_\\rm{max}=500Watts$"
   ]
  },
  {
   "cell_type": "code",
   "execution_count": 30,
   "metadata": {
    "collapsed": false
   },
   "outputs": [],
   "source": [
    "# Open the PDFs for the Maxon Equipment\n",
    "webbrowser.open_new('Maxon_375711.pdf');\n",
    "webbrowser.open_new('Maxon_110505.pdf');\n",
    "webbrowser.open_new('Maxon_136210.pdf');"
   ]
  },
  {
   "cell_type": "markdown",
   "metadata": {},
   "source": [
    "**Functional Requirements**\n",
    "* Determine Acceleration Profile and ensure it achieves an acceleration of 50 deg/s\n",
    "* Determine Velocity Profile and ensure it achieves a velocity of 50 deg/s\n",
    "* Determine Position Profile\n",
    "* Determine the Input Current profile for starting at 0 Degrees and stopping at 360 degrees, model as a constant step function\n",
    "* Determine the time to complete the rotation\n",
    "* Determine maximum winding temperature\n",
    "\n",
    "**Environmental Factors**\n",
    "* Operate during a wind velocity of 155 knots - The estimated wind induced torque is modeled after an [ICAS](http://www.icas.org) research paper on rectangular prisms as airfoils."
   ]
  },
  {
   "cell_type": "code",
   "execution_count": 31,
   "metadata": {
    "collapsed": true
   },
   "outputs": [],
   "source": [
    "#Open the PDF for the ICAS 155 Airfoil Paper for pitch moment approximations\n",
    "webbrowser.open_new('International_council_of_aeronautical_sciences155.pdf');"
   ]
  },
  {
   "cell_type": "markdown",
   "metadata": {
    "collapsed": true
   },
   "source": [
    "## Derivation of Equations"
   ]
  },
  {
   "cell_type": "code",
   "execution_count": 32,
   "metadata": {
    "collapsed": true
   },
   "outputs": [],
   "source": [
    "#Reference Maxon Motor Theory for Equations and Principles\n",
    "webbrowser.open_new('Maxon_Motor_Notes.pdf');\n",
    "need one more!!!!!!!!!"
   ]
  },
  {
   "cell_type": "markdown",
   "metadata": {},
   "source": [
    "\n",
    "**Conservation of Power**\n",
    "\n",
    "Mechanical power in the form of torque times angular velocity is induced from the applied motor current and voltage. \n",
    "$$Power_\\rm{mechanical} = I_\\rm{applied}V_\\rm{induced} = \\tau_\\rm{motor}\\omega$$\n",
    "Losses exist in the form of resistance (heat) and inductance (delay)...\n",
    "$$V_\\rm{applied} = V_\\rm{induced}+RI_\\rm{applied}+L\\frac{dI}{dt}$$\n",
    "Solving for $V_\\rm{induced}$ and substituting into the power equation...\n",
    "$$I_\\rm{applied}(V_\\rm{applied}-RI_\\rm{applied}-LdI/dt) = \\tau_\\rm{motor}\\omega$$\n",
    "\n",
    "The inductance value for this motor is $0.0565 mH$. Limiting the applied current ramp rate to $1000Amps$ per second will keep any inductance effects lower than $0.0565 Volts$. With an applied motor voltage of $28 Volts$, this is less than $0.2 percent$. Therefore the $LdI/dt$ term can be removed from the equation. This is consistant with accepted practice for DC motors.\n",
    "\n",
    "$$I_\\rm{applied}(V_\\rm{applied}-RI_\\rm{applied}) = \\tau_\\rm{motor}\\omega$$\n",
    "\n",
    "Total torque is a combination of motor torque and and external input torque due to a wind induced moment (yaw moment for the azimuth stage).\n",
    "\n",
    "$$\\tau_\\rm{total} = \\tau_\\rm{motor}+\\tau_\\rm{environmental} = I_\\rm{inertia}\\alpha$$\n",
    "Solving for $\\tau_\\rm{motor}$ and substituting into the power equation...\n",
    "$$I_\\rm{applied}(V_\\rm{applied}-RI_\\rm{applied}) = (I_\\rm{inertia}\\alpha-\\tau_\\rm{environmental})\\omega$$\n",
    "\n",
    "This is the controlling equation for motion of the gimbal azimuth stage.  Let's rearrange and solve for $\\alpha$.\n",
    "$$\\alpha = \\frac{I_\\rm{applied}(V_\\rm{applied}-RI_\\rm{applied})}{I_\\rm{inertia}\\omega}-\\frac{\\tau_\\rm{environmental}}{I_\\rm{inertia}}$$\n",
    "\n",
    "Now let's rearrange into a derivative form...\n",
    "$$ \\frac{\\omega^{n+1}-\\omega^n}{\\Delta t}= \\frac{I_\\rm{applied}(V_\\rm{applied}-RI_\\rm{applied})}{I_\\rm{inertia}\\omega^n}-\\frac{\\tau_\\rm{environmental}}{I_\\rm{inertia}}$$\n",
    "Solving for $\\omega^{n+1}$\n",
    "$$ \\omega^{n+1}= \\omega^n+\\Delta t(\\frac{I_\\rm{applied}(V_\\rm{applied}-RI_\\rm{applied})}{I_\\rm{inertia}\\omega^n}-\\frac{\\tau_\\rm{environmental}}{I_\\rm{inertia}})$$\n",
    "\n",
    "\n",
    "**Motor Winding Temperature**\n"
   ]
  },
  {
   "cell_type": "code",
   "execution_count": null,
   "metadata": {
    "collapsed": true
   },
   "outputs": [],
   "source": []
  },
  {
   "cell_type": "code",
   "execution_count": null,
   "metadata": {
    "collapsed": true
   },
   "outputs": [],
   "source": []
  },
  {
   "cell_type": "code",
   "execution_count": null,
   "metadata": {
    "collapsed": true
   },
   "outputs": [],
   "source": []
  },
  {
   "cell_type": "code",
   "execution_count": null,
   "metadata": {
    "collapsed": true
   },
   "outputs": [],
   "source": []
  },
  {
   "cell_type": "code",
   "execution_count": null,
   "metadata": {
    "collapsed": false
   },
   "outputs": [],
   "source": [
    "\n",
    "\n"
   ]
  },
  {
   "cell_type": "code",
   "execution_count": 27,
   "metadata": {
    "collapsed": true
   },
   "outputs": [],
   "source": [
    "#Open the PDF for the Maxon Motor Equations\n",
    "webbrowser.open_new('Maxon_Motor_Notes.pdf');"
   ]
  },
  {
   "cell_type": "code",
   "execution_count": null,
   "metadata": {
    "collapsed": true
   },
   "outputs": [],
   "source": []
  },
  {
   "cell_type": "code",
   "execution_count": null,
   "metadata": {
    "collapsed": true
   },
   "outputs": [],
   "source": []
  },
  {
   "cell_type": "code",
   "execution_count": null,
   "metadata": {
    "collapsed": true
   },
   "outputs": [],
   "source": []
  },
  {
   "cell_type": "code",
   "execution_count": null,
   "metadata": {
    "collapsed": true
   },
   "outputs": [],
   "source": []
  },
  {
   "cell_type": "code",
   "execution_count": null,
   "metadata": {
    "collapsed": true
   },
   "outputs": [],
   "source": []
  },
  {
   "cell_type": "code",
   "execution_count": null,
   "metadata": {
    "collapsed": true
   },
   "outputs": [],
   "source": []
  },
  {
   "cell_type": "code",
   "execution_count": null,
   "metadata": {
    "collapsed": true
   },
   "outputs": [],
   "source": []
  },
  {
   "cell_type": "code",
   "execution_count": null,
   "metadata": {
    "collapsed": true
   },
   "outputs": [],
   "source": []
  },
  {
   "cell_type": "markdown",
   "metadata": {},
   "source": [
    "###### The cell below loads the style of this notebook."
   ]
  },
  {
   "cell_type": "code",
   "execution_count": 4,
   "metadata": {
    "collapsed": false
   },
   "outputs": [
    {
     "data": {
      "text/html": [
       "<link href='http://fonts.googleapis.com/css?family=Alegreya+Sans:100,300,400,500,700,800,900,100italic,300italic,400italic,500italic,700italic,800italic,900italic' rel='stylesheet' type='text/css'>\n",
       "<link href='http://fonts.googleapis.com/css?family=Arvo:400,700,400italic' rel='stylesheet' type='text/css'>\n",
       "<link href='http://fonts.googleapis.com/css?family=PT+Mono' rel='stylesheet' type='text/css'>\n",
       "<link href='http://fonts.googleapis.com/css?family=Shadows+Into+Light' rel='stylesheet' type='text/css'>\n",
       "<link href='http://fonts.googleapis.com/css?family=Nixie+One' rel='stylesheet' type='text/css'>\n",
       "<style>\n",
       "\n",
       "@font-face {\n",
       "    font-family: \"Computer Modern\";\n",
       "    src: url('http://mirrors.ctan.org/fonts/cm-unicode/fonts/otf/cmunss.otf');\n",
       "}\n",
       "\n",
       "#notebook_panel { /* main background */\n",
       "    background: rgb(245,245,245);\n",
       "}\n",
       "\n",
       "div.cell { /* set cell width */\n",
       "    width: 750px;\n",
       "}\n",
       "\n",
       "div #notebook { /* centre the content */\n",
       "    background: #fff; /* white background for content */\n",
       "    width: 1000px;\n",
       "    margin: auto;\n",
       "    padding-left: 0em;\n",
       "}\n",
       "\n",
       "#notebook li { /* More space between bullet points */\n",
       "    margin-top:0.8em;\n",
       "}\n",
       "\n",
       "/* draw border around running cells */\n",
       "div.cell.border-box-sizing.code_cell.running { \n",
       "    border: 1px solid #111;\n",
       "}\n",
       "\n",
       "/* Put a solid color box around each cell and its output, visually linking them*/\n",
       "div.cell.code_cell {\n",
       "    background-color: rgb(256,256,256); \n",
       "    border-radius: 0px; \n",
       "    padding: 0.5em;\n",
       "    margin-left:1em;\n",
       "    margin-top: 1em;\n",
       "}\n",
       "\n",
       "div.text_cell_render{\n",
       "    font-family: 'Alegreya Sans' sans-serif;\n",
       "    line-height: 140%;\n",
       "    font-size: 125%;\n",
       "    font-weight: 400;\n",
       "    width:600px;\n",
       "    margin-left:auto;\n",
       "    margin-right:auto;\n",
       "}\n",
       "\n",
       "\n",
       "/* Formatting for header cells */\n",
       ".text_cell_render h1 {\n",
       "    font-family: 'Nixie One', serif;\n",
       "    font-style:regular;\n",
       "    font-weight: 400;    \n",
       "    font-size: 45pt;\n",
       "    line-height: 100%;\n",
       "    color: rgb(0,51,102);\n",
       "    margin-bottom: 0.5em;\n",
       "    margin-top: 0.5em;\n",
       "    display: block;\n",
       "}\n",
       "\n",
       ".text_cell_render h2 {\n",
       "    font-family: 'Nixie One', serif;\n",
       "    font-weight: 400;\n",
       "    font-size: 30pt;\n",
       "    line-height: 100%;\n",
       "    color: rgb(0,51,102);\n",
       "    margin-bottom: 0.1em;\n",
       "    margin-top: 0.3em;\n",
       "    display: block;\n",
       "}\t\n",
       "\n",
       ".text_cell_render h3 {\n",
       "    font-family: 'Nixie One', serif;\n",
       "    margin-top:16px;\n",
       "    font-size: 22pt;\n",
       "    font-weight: 600;\n",
       "    margin-bottom: 3px;\n",
       "    font-style: regular;\n",
       "    color: rgb(102,102,0);\n",
       "}\n",
       "\n",
       ".text_cell_render h4 {    /*Use this for captions*/\n",
       "    font-family: 'Nixie One', serif;\n",
       "    font-size: 14pt;\n",
       "    text-align: center;\n",
       "    margin-top: 0em;\n",
       "    margin-bottom: 2em;\n",
       "    font-style: regular;\n",
       "}\n",
       "\n",
       ".text_cell_render h5 {  /*Use this for small titles*/\n",
       "    font-family: 'Nixie One', sans-serif;\n",
       "    font-weight: 400;\n",
       "    font-size: 16pt;\n",
       "    color: rgb(163,0,0);\n",
       "    font-style: italic;\n",
       "    margin-bottom: .1em;\n",
       "    margin-top: 0.8em;\n",
       "    display: block;\n",
       "}\n",
       "\n",
       ".text_cell_render h6 { /*use this for copyright note*/\n",
       "    font-family: 'PT Mono', sans-serif;\n",
       "    font-weight: 300;\n",
       "    font-size: 9pt;\n",
       "    line-height: 100%;\n",
       "    color: grey;\n",
       "    margin-bottom: 1px;\n",
       "    margin-top: 1px;\n",
       "}\n",
       "\n",
       ".CodeMirror{\n",
       "    font-family: \"PT Mono\";\n",
       "    font-size: 90%;\n",
       "}\n",
       "\n",
       "</style>\n",
       "<script>\n",
       "    MathJax.Hub.Config({\n",
       "                        TeX: {\n",
       "                           extensions: [\"AMSmath.js\"],\n",
       "                           equationNumbers: { autoNumber: \"AMS\", useLabelIds: true}\n",
       "                           },\n",
       "                tex2jax: {\n",
       "                    inlineMath: [ ['$','$'], [\"\\\\(\",\"\\\\)\"] ],\n",
       "                    displayMath: [ ['$$','$$'], [\"\\\\[\",\"\\\\]\"] ]\n",
       "                },\n",
       "                displayAlign: 'center', // Change this to 'center' to center equations.\n",
       "                \"HTML-CSS\": {\n",
       "                    styles: {'.MathJax_Display': {\"margin\": 4}}\n",
       "                }\n",
       "        });\n",
       "</script>\n"
      ],
      "text/plain": [
       "<IPython.core.display.HTML object>"
      ]
     },
     "execution_count": 4,
     "metadata": {},
     "output_type": "execute_result"
    }
   ],
   "source": [
    "from IPython.core.display import HTML\n",
    "css_file = 'styles/numericalmoocstyle.css'\n",
    "HTML(open(css_file, \"r\").read())"
   ]
  }
 ],
 "metadata": {
  "kernelspec": {
   "display_name": "Python 3",
   "language": "python",
   "name": "python3"
  },
  "language_info": {
   "codemirror_mode": {
    "name": "ipython",
    "version": 3
   },
   "file_extension": ".py",
   "mimetype": "text/x-python",
   "name": "python",
   "nbconvert_exporter": "python",
   "pygments_lexer": "ipython3",
   "version": "3.4.3"
  }
 },
 "nbformat": 4,
 "nbformat_minor": 0
}
