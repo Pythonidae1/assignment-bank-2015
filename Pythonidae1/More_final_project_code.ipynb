{
 "cells": [
  {
   "cell_type": "code",
   "execution_count": 736,
   "metadata": {
    "collapsed": true
   },
   "outputs": [],
   "source": [
    "%matplotlib inline\n",
    "import numpy \n",
    "from sympy import *\n",
    "from matplotlib import pyplot\n",
    "import matplotlib.pyplot as plt\n",
    "from matplotlib import rcParams\n",
    "rcParams['font.family'] = 'serif'\n",
    "rcParams['font.size'] = 16"
   ]
  },
  {
   "cell_type": "code",
   "execution_count": 804,
   "metadata": {
    "collapsed": false
   },
   "outputs": [],
   "source": [
    "T = 20\n",
    "dt = 0.0001\n",
    "N = int(T/dt)+1\n",
    "t = numpy.linspace(0.0, T, N)\n",
    "\n",
    "#V = 10 #Volts changes to be V = 250/I\n",
    "R = 0.143 #Ohms\n",
    "#Kn = 364*2*numpy.pi/60\n",
    "Km = .0263 #N-m/Amp\n",
    "Ratio = 300 # Speed Reducing Ratio\n",
    "Inertia = 26.831/Ratio #kg-m^2 Payload inertia \n",
    "Irated = 12.5 #Amps\n",
    "\n",
    "Imax = 500/28 #Amps\n",
    "Itimemax = 6 #Seconds 6.73\n",
    "Icontinuous = 0 #Amps\n",
    "Iramprate = 1000 #Amps/Second\n",
    "Itimecontinuous = 1 #seconds\n",
    "#Itimecontinuous = ((Imax/Irated)**2*Itimemax)-Itimemax #seconds\n",
    "\n",
    "T1 =      int((Imax/Iramprate)/dt) #ramp up\n",
    "T2 = T1 + int(Itimemax/dt) #dwell at max\n",
    "T3 = T2 + int(((Imax-Icontinuous)/Iramprate)/dt) #ramp down\n",
    "T4 = T3 + int(Itimecontinuous/dt) #dwell at continuous\n",
    "T5 = T4 + int(((Imax-Icontinuous)/Iramprate)/dt) #ramp up\n",
    "T6 = T5 + int(Itimemax/dt) #dwell at max\n",
    "T7 = T6 + int(((Imax-Icontinuous)/Iramprate)/dt) #ramp down\n",
    "T8 = T7 + int(Itimecontinuous/dt) #dwell at continuous\n",
    "T9 = T8 + int(((Imax-Icontinuous)/Iramprate)/dt) #ramp up\n",
    "T10 = T9 + int(Itimemax/dt) #dwell at max\n",
    "T11 = T10 + int(((Imax-Icontinuous)/Iramprate)/dt) #ramp down"
   ]
  },
  {
   "cell_type": "code",
   "execution_count": 805,
   "metadata": {
    "collapsed": false
   },
   "outputs": [],
   "source": [
    "\n",
    "def Ivalues(Imax,Itimemax,Icontinuous,Iramprate,Itimecontinuous,N):\n",
    "    I = numpy.zeros(N)\n",
    "    I[:] = Icontinuous\n",
    "    I[0] = 0\n",
    "    for i in range(1,T1): #ramp up\n",
    "        I[i] = Iramprate*(dt*i)\n",
    "    for i in range(T1,T2): #dwell at max\n",
    "        I[i] = Imax\n",
    "    for i in range(T2,T3): #ramp down\n",
    "        I[i] = Imax - Iramprate*(dt*(i-T2))\n",
    "    for i in range(T3,T4): #dwell at continuous\n",
    "        I[i] = Icontinuous\n",
    "    for i in range(T4,T5): #ramp up\n",
    "        I[i] = Icontinuous - Iramprate*(dt*(i-T4))\n",
    "    for i in range(T5,T6): #dwell at max\n",
    "        I[i] = -Imax\n",
    "    for i in range(T6,T7): #ramp down\n",
    "        I[i] = -Imax + Iramprate*(dt*(i-T6)) \n",
    "#    for i in range(T7,T8): #dwell at continuous\n",
    "#        I[i] = Icontinuous      \n",
    "#    for i in range(T8,T9): #ramp up\n",
    "#        I[i] = Icontinuous + Iramprate*(dt*(i-T8)) \n",
    "#    for i in range(T9,T10): #dwell at max\n",
    "#        I[i] = Imax\n",
    "#    for i in range(T10,T11): #ramp down\n",
    "#        I[i] = Imax - Iramprate*(dt*(i-T10))\n",
    "    V = numpy.zeros(N)\n",
    "    for i in range(0,N):\n",
    "        if I[i]==0:\n",
    "            V[i]=28\n",
    "        elif abs(500/I[i])>28:\n",
    "            V[i]=28\n",
    "        else:\n",
    "            V[i]=abs(500/I[i] )  \n",
    "    return I[:], V[:]"
   ]
  },
  {
   "cell_type": "code",
   "execution_count": 806,
   "metadata": {
    "collapsed": false
   },
   "outputs": [],
   "source": [
    "I,V = Ivalues(Imax,Itimemax,Icontinuous,Iramprate,Itimecontinuous,N) \n",
    "alpha = numpy.zeros(N)\n",
    "alpha[:] = 0.0\n",
    "omega = numpy.zeros(N)\n",
    "omega[:] = 0.0\n",
    "omega[0] = .001\n",
    "theta = numpy.zeros(N)\n",
    "theta[:] = 0.0\n",
    "theta[0] = 0.0"
   ]
  },
  {
   "cell_type": "code",
   "execution_count": 807,
   "metadata": {
    "collapsed": false
   },
   "outputs": [
    {
     "data": {
      "image/png": "[encoded data removed]",
      "text/plain": [
       "<matplotlib.figure.Figure at 0x7fb56adb83c8>"
      ]
     },
     "metadata": {},
     "output_type": "display_data"
    }
   ],
   "source": [
    "pyplot.plot(t, I, color='#005000', ls='-', lw=3)\n",
    "pyplot.plot(t, V, color='#003366', ls='-', lw=3)\n",
    "pyplot.title('Current input')\n",
    "pyplot.ylabel('Current (Amps)')\n",
    "pyplot.xlabel('time (Sec)')\n",
    "pyplot.xlim(0,T);\n",
    "pyplot.ylim(numpy.amin(I)-2,numpy.amax(V)+2);\n"
   ]
  },
  {
   "cell_type": "code",
   "execution_count": 808,
   "metadata": {
    "collapsed": false
   },
   "outputs": [
    {
     "ename": "KeyboardInterrupt",
     "evalue": "",
     "output_type": "error",
     "traceback": [
      "\u001b[1;31m---------------------------------------------------------------------------\u001b[0m",
      "\u001b[1;31mKeyboardInterrupt\u001b[0m                         Traceback (most recent call last)",
      "\u001b[1;32m<ipython-input-808-56c81f464ea9>\u001b[0m in \u001b[0;36m<module>\u001b[1;34m()\u001b[0m\n\u001b[0;32m      3\u001b[0m     \u001b[1;32mfor\u001b[0m \u001b[0mn\u001b[0m \u001b[1;32min\u001b[0m \u001b[0mrange\u001b[0m\u001b[1;33m(\u001b[0m\u001b[1;36m1\u001b[0m\u001b[1;33m,\u001b[0m\u001b[0mN\u001b[0m\u001b[1;33m)\u001b[0m\u001b[1;33m:\u001b[0m\u001b[1;33m\u001b[0m\u001b[0m\n\u001b[0;32m      4\u001b[0m         \u001b[0momega\u001b[0m\u001b[1;33m[\u001b[0m\u001b[0mn\u001b[0m\u001b[1;33m]\u001b[0m \u001b[1;33m=\u001b[0m \u001b[0momega\u001b[0m\u001b[1;33m[\u001b[0m\u001b[0mn\u001b[0m\u001b[1;33m-\u001b[0m\u001b[1;36m1\u001b[0m\u001b[1;33m]\u001b[0m \u001b[1;33m+\u001b[0m \u001b[0mdt\u001b[0m\u001b[1;33m*\u001b[0m\u001b[1;33m(\u001b[0m\u001b[0mI\u001b[0m\u001b[1;33m[\u001b[0m\u001b[0mn\u001b[0m\u001b[1;33m-\u001b[0m\u001b[1;36m1\u001b[0m\u001b[1;33m]\u001b[0m\u001b[1;33m*\u001b[0m\u001b[1;33m(\u001b[0m\u001b[0mV\u001b[0m\u001b[1;33m[\u001b[0m\u001b[0mn\u001b[0m\u001b[1;33m]\u001b[0m\u001b[1;33m-\u001b[0m\u001b[0mR\u001b[0m\u001b[1;33m*\u001b[0m\u001b[0mI\u001b[0m\u001b[1;33m[\u001b[0m\u001b[0mn\u001b[0m\u001b[1;33m-\u001b[0m\u001b[1;36m1\u001b[0m\u001b[1;33m]\u001b[0m\u001b[1;33m)\u001b[0m\u001b[1;33m/\u001b[0m\u001b[1;33m(\u001b[0m\u001b[0mInertia\u001b[0m\u001b[1;33m*\u001b[0m\u001b[0momega\u001b[0m\u001b[1;33m[\u001b[0m\u001b[0mn\u001b[0m\u001b[1;33m-\u001b[0m\u001b[1;36m1\u001b[0m\u001b[1;33m]\u001b[0m\u001b[1;33m)\u001b[0m\u001b[1;33m)\u001b[0m\u001b[1;33m\u001b[0m\u001b[0m\n\u001b[1;32m----> 5\u001b[1;33m         \u001b[0mtheta\u001b[0m\u001b[1;33m[\u001b[0m\u001b[0mn\u001b[0m\u001b[1;33m]\u001b[0m \u001b[1;33m=\u001b[0m \u001b[0mtheta\u001b[0m\u001b[1;33m[\u001b[0m\u001b[0mn\u001b[0m\u001b[1;33m-\u001b[0m\u001b[1;36m1\u001b[0m\u001b[1;33m]\u001b[0m \u001b[1;33m+\u001b[0m \u001b[0mdt\u001b[0m\u001b[1;33m*\u001b[0m\u001b[0momega\u001b[0m\u001b[1;33m[\u001b[0m\u001b[0mn\u001b[0m\u001b[1;33m-\u001b[0m\u001b[1;36m1\u001b[0m\u001b[1;33m]\u001b[0m\u001b[1;33m\u001b[0m\u001b[0m\n\u001b[0m\u001b[0;32m      6\u001b[0m         \u001b[0malpha\u001b[0m\u001b[1;33m[\u001b[0m\u001b[0mn\u001b[0m\u001b[1;33m]\u001b[0m \u001b[1;33m=\u001b[0m \u001b[1;33m(\u001b[0m\u001b[0momega\u001b[0m\u001b[1;33m[\u001b[0m\u001b[0mn\u001b[0m\u001b[1;33m]\u001b[0m\u001b[1;33m-\u001b[0m\u001b[0momega\u001b[0m\u001b[1;33m[\u001b[0m\u001b[0mn\u001b[0m\u001b[1;33m-\u001b[0m\u001b[1;36m1\u001b[0m\u001b[1;33m]\u001b[0m\u001b[1;33m)\u001b[0m\u001b[1;33m/\u001b[0m\u001b[0mdt\u001b[0m\u001b[1;33m\u001b[0m\u001b[0m\n\u001b[0;32m      7\u001b[0m         \u001b[1;32mif\u001b[0m \u001b[0mtheta\u001b[0m\u001b[1;33m[\u001b[0m\u001b[0mn\u001b[0m\u001b[1;33m]\u001b[0m\u001b[1;33m>=\u001b[0m\u001b[1;36m2\u001b[0m\u001b[1;33m*\u001b[0m\u001b[0mnumpy\u001b[0m\u001b[1;33m.\u001b[0m\u001b[0mpi\u001b[0m\u001b[1;33m*\u001b[0m\u001b[0mRatio\u001b[0m\u001b[1;33m:\u001b[0m\u001b[1;33m\u001b[0m\u001b[0m\n",
      "\u001b[1;31mKeyboardInterrupt\u001b[0m: "
     ]
    }
   ],
   "source": [
    "# time-loop using Euler's method\n",
    "while numpy.amin(omega)>=0:   \n",
    "    for n in range(1,N):       \n",
    "        omega[n] = omega[n-1] + dt*(I[n-1]*(V[n]-R*I[n-1])/(Inertia*omega[n-1]))\n",
    "        theta[n] = theta[n-1] + dt*omega[n-1]\n",
    "        alpha[n] = (omega[n]-omega[n-1])/dt\n",
    "        if theta[n]>=2*numpy.pi*Ratio:\n",
    "            theta[n:] = theta[n]\n",
    "            timestamp = (n)*dt\n",
    "            break\n",
    "    Itimemax = Itimemax -1\n",
    "    I,V = Ivalues(Imax,Itimemax,Icontinuous,Iramprate,Itimecontinuous,N)\n",
    "Itimemax,numpy.amin(omega)"
   ]
  },
  {
   "cell_type": "code",
   "execution_count": null,
   "metadata": {
    "collapsed": false
   },
   "outputs": [],
   "source": [
    "pyplot.plot(t, I, color='#005000', ls='-', lw=3)\n",
    "pyplot.plot(t, V, color='#003000', ls='-', lw=3)\n",
    "pyplot.title('Current input')\n",
    "pyplot.ylabel('Current (Amps)')\n",
    "pyplot.xlabel('time (Sec)')\n",
    "pyplot.xlim(0,timestamp);\n",
    "pyplot.ylim(numpy.amin(I)-2,numpy.amax(V)+2);\n",
    "timestamp"
   ]
  },
  {
   "cell_type": "code",
   "execution_count": null,
   "metadata": {
    "collapsed": false
   },
   "outputs": [],
   "source": [
    "pyplot.plot(t, theta*180/numpy.pi, color='#003366', ls='-', lw=3)\n",
    "pyplot.title('Theta to meet Current input')\n",
    "pyplot.ylabel('Theta (Deg)')\n",
    "pyplot.xlabel('time (Sec)')\n",
    "pyplot.xlim(0,timestamp);\n",
    "pyplot.ylim(0,numpy.amax(theta)*180/numpy.pi);\n",
    "numpy.amax(theta)*180/numpy.pi/300"
   ]
  },
  {
   "cell_type": "code",
   "execution_count": null,
   "metadata": {
    "collapsed": false
   },
   "outputs": [],
   "source": [
    "pyplot.plot(t, omega*180/numpy.pi, color='#005000', ls='-', lw=3)\n",
    "pyplot.title('Omega to meet Current input')\n",
    "pyplot.ylabel('Omega (Degree/sec)')\n",
    "pyplot.xlabel('time (Sec)')\n",
    "pyplot.xlim(0,T);\n",
    "pyplot.ylim(numpy.amin(omega)*180/numpy.pi,numpy.amax(omega)*180/numpy.pi*1.1);\n",
    "numpy.amax(omega)*180/numpy.pi/300"
   ]
  },
  {
   "cell_type": "code",
   "execution_count": null,
   "metadata": {
    "collapsed": false
   },
   "outputs": [],
   "source": [
    "pyplot.plot(t, alpha*180/numpy.pi, color='#003366', ls='-', lw=3)\n",
    "pyplot.title('Alpha to meet Current input')\n",
    "pyplot.ylabel('Alpha (degrees/s^2)')\n",
    "pyplot.xlabel('time (Sec)')\n",
    "pyplot.xlim(0,timestamp);\n",
    "#pyplot.ylim(-numpy.amax(alpha)*180/numpy.pi,numpy.amax(alpha)*180/numpy.pi);\n",
    "pyplot.ylim(-5000,10000);\n",
    "numpy.amax(alpha)*180/numpy.pi/300"
   ]
  },
  {
   "cell_type": "code",
   "execution_count": null,
   "metadata": {
    "collapsed": true
   },
   "outputs": [],
   "source": []
  },
  {
   "cell_type": "code",
   "execution_count": null,
   "metadata": {
    "collapsed": true
   },
   "outputs": [],
   "source": []
  },
  {
   "cell_type": "code",
   "execution_count": null,
   "metadata": {
    "collapsed": true
   },
   "outputs": [],
   "source": []
  }
 ],
 "metadata": {
  "kernelspec": {
   "display_name": "Python 3",
   "language": "python",
   "name": "python3"
  },
  "language_info": {
   "codemirror_mode": {
    "name": "ipython",
    "version": 3
   },
   "file_extension": ".py",
   "mimetype": "text/x-python",
   "name": "python",
   "nbconvert_exporter": "python",
   "pygments_lexer": "ipython3",
   "version": "3.4.3"
  }
 },
 "nbformat": 4,
 "nbformat_minor": 0
}
